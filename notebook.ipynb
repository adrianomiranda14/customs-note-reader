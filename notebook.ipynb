{
 "cells": [
  {
   "cell_type": "code",
   "execution_count": 250,
   "metadata": {},
   "outputs": [],
   "source": [
    "import pandas as pd\n",
    "import tabula as tb\n",
    "from PyPDF2 import PdfFileReader\n",
    "import numpy as np\n"
   ]
  },
  {
   "cell_type": "code",
   "execution_count": null,
   "metadata": {},
   "outputs": [],
   "source": [
    "#TODO portuguuse commodity code into uk\n",
    "#TODO export excel file with each pdf as a sheet, using file name as sheet name\n",
    "#TODO create file paths from folder\n"
   ]
  },
  {
   "cell_type": "code",
   "execution_count": 275,
   "metadata": {},
   "outputs": [],
   "source": [
    "paths_pdf = [r\"C:\\Users\\adria\\Desktop\\Miratoni\\Imports\\September\\10-09-21\\Main Lorry Vougafrio\\Despachos\\Despacho Sal Limiana.pdf\"]\n",
    "paths_csv = [r\"C:\\Users\\\\adria\\Desktop\\Miratoni/Imports/July/23-7-21/Main Lorry/Despacho FAC A21_623 _ 627.csv\"]\n",
    "pd.set_option(\"max_colwidth\", 1000)\n",
    "pd.set_option(\"display.max_rows\", 200)\n",
    "codes_path = r\"C:\\Users\\adria\\Desktop\\Miratoni\\Imports\\Import Database.csv\"\n",
    "\n",
    "desc_areas = [[146.891,303.45,156.559,574.175],[215.316,303.45,227.216,574.919],[285.228,303.45,296.384,574.175],[355.884,304.194,366.297,574.919],[425.797,303.45,437.697,575.663],[495.709,302.706,506.866,574.919],[566.366,304.194,577.522,574.175],[636.278,303.45,646.691,573.431],[706.191,304.194,716.603,574.919]]\n",
    "code_areas = [[165.484,304.194,177.384,574.175],[235.397,303.45,246.553,574.175],[306.053,304.194,316.466,574.175],[375.222,303.45,387.866,574.919],[445.878,304.194,456.291,574.919],[516.534,303.45,526.947,575.663],[584.959,303.45,596.116,574.919],[656.359,304.194,666.772,574.919],[726.272,304.194,735.941,574.175]]\n",
    "gr_wt_areas = [[196.722,490.875,206.391,574.919],[266.634,490.131,277.047,574.175],[335.803,490.875,346.959,574.919],[405.716,489.388,417.616,574.175],[475.628,490.875,486.784,574.175],[545.541,490.875,557.441,574.919],[615.453,490.875,627.353,574.919],[686.109,490.875,697.266,574.175],[756.022,490.875,765.691,574.919]]\n",
    "net_wt_areas = [[206.391,490.875,216.803,574.175],[275.559,490.875,287.459,574.175],[346.216,490.875,356.628,574.175],[416.128,490.875,426.541,573.431],[486.041,490.875,496.453,574.175],[555.953,490.875,566.366,574.175],[626.609,490.875,636.278,574.919],[695.778,490.875,706.934,573.431],[765.691,490.875,775.359,574.175]]\n",
    "value_areas = [[205.647,375.594,215.316,491.619],[275.559,375.594,285.972,490.875],[346.216,375.594,355.141,492.363],[416.128,375.594,425.053,492.363],[486.784,375.594,497.197,491.619],[555.953,375.594,566.366,491.619],[625.866,375.594,637.022,491.619],[696.522,375.594,705.447,490.619],[766.434,375.594,776.847,492.363]]\n",
    "first_page_areas = [[487.528,298.988,499.428,574.175],[509.841,296.756,520.253,574.919],[539.591,487.156,550.003,573.431],[549.259,486.413,560.416,574.175],[549.259,374.85,560.416,486.413]]\n",
    "normal_areas = [134.991, 303.078, 778.334, 576.778]\n"
   ]
  },
  {
   "cell_type": "code",
   "execution_count": null,
   "metadata": {},
   "outputs": [],
   "source": []
  },
  {
   "cell_type": "code",
   "execution_count": 152,
   "metadata": {},
   "outputs": [],
   "source": [
    "def modifier(dffrompdf):\n",
    "    first_value = [dffrompdf.columns[0]]  #string\n",
    "    vals = dffrompdf.values.tolist()  #list of lists\n",
    "    for unit in vals:\n",
    "        first_value.append(unit[0])\n",
    "    dffrompdf = first_value\n",
    "    return dffrompdf    "
   ]
  },
  {
   "cell_type": "code",
   "execution_count": 242,
   "metadata": {},
   "outputs": [],
   "source": [
    "pdf = PdfFileReader(open(paths_pdf[0],'rb'))\n",
    "pageno = pdf.getNumPages()\n",
    "pageno = pdf.getNumPages()\n",
    "if int(pageno) > 1:\n",
    "    no_of_pages = f\"2-{pageno}\"\n",
    "else:\n",
    "    no_of_pages = 1    \n",
    "   "
   ]
  },
  {
   "cell_type": "code",
   "execution_count": 184,
   "metadata": {},
   "outputs": [
    {
     "name": "stdout",
     "output_type": "stream",
     "text": [
      "1\n"
     ]
    }
   ],
   "source": [
    "print(no_of_pages)"
   ]
  },
  {
   "cell_type": "code",
   "execution_count": 243,
   "metadata": {},
   "outputs": [],
   "source": [
    "desc = tb.read_pdf(paths_pdf[0], pages=no_of_pages, stream=True, area=desc_areas,\n",
    "                 multiple_tables=False, format=\"CSV\")\n",
    "commcode = tb.read_pdf(paths_pdf[0], pages=no_of_pages, stream=True, area=code_areas,\n",
    "                 multiple_tables=False, format=\"CSV\")\n",
    "gr_wgt = tb.read_pdf(paths_pdf[0], pages=no_of_pages, stream=True, area=gr_wt_areas,\n",
    "                 multiple_tables=False, format=\"CSV\")\n",
    "nt_wgt = tb.read_pdf(paths_pdf[0], pages=no_of_pages, stream=True, area=net_wt_areas,\n",
    "                 multiple_tables=False, format=\"CSV\")\n",
    "values = tb.read_pdf(paths_pdf[0], pages=no_of_pages, stream=True, area=value_areas,\n",
    "                 multiple_tables=False, format=\"CSV\")\n",
    "\n",
    "all_items = [desc[0], commcode[0], gr_wgt[0], nt_wgt[0], values[0]]\n",
    "\n",
    "dict_for_df = {'Description':modifier(desc[0]),'PTCode':modifier(commcode[0]),'Gross Weight (kg)':modifier(gr_wgt[0]),'Net Weight(kg)':modifier(nt_wgt[0]),'Value (EUR)':modifier(values[0])}\n",
    "\n"
   ]
  },
  {
   "cell_type": "code",
   "execution_count": 244,
   "metadata": {},
   "outputs": [],
   "source": [
    "final = pd.DataFrame.from_dict(dict_for_df)"
   ]
  },
  {
   "cell_type": "code",
   "execution_count": 283,
   "metadata": {},
   "outputs": [
    {
     "data": {
      "text/plain": [
       "pandas.core.frame.DataFrame"
      ]
     },
     "execution_count": 283,
     "metadata": {},
     "output_type": "execute_result"
    }
   ],
   "source": []
  },
  {
   "cell_type": "code",
   "execution_count": 219,
   "metadata": {},
   "outputs": [
    {
     "data": {
      "text/html": [
       "<div>\n",
       "<style scoped>\n",
       "    .dataframe tbody tr th:only-of-type {\n",
       "        vertical-align: middle;\n",
       "    }\n",
       "\n",
       "    .dataframe tbody tr th {\n",
       "        vertical-align: top;\n",
       "    }\n",
       "\n",
       "    .dataframe thead th {\n",
       "        text-align: right;\n",
       "    }\n",
       "</style>\n",
       "<table border=\"1\" class=\"dataframe\">\n",
       "  <thead>\n",
       "    <tr style=\"text-align: right;\">\n",
       "      <th></th>\n",
       "      <th>Description</th>\n",
       "      <th>PTCode</th>\n",
       "      <th>Gross Weight (kg)</th>\n",
       "      <th>Net Weight (kg)</th>\n",
       "      <th>Value (EUR)</th>\n",
       "    </tr>\n",
       "  </thead>\n",
       "  <tbody>\n",
       "    <tr>\n",
       "      <th>0</th>\n",
       "      <td>MASSAS ALIMENTICIAS</td>\n",
       "      <td>19021910.00.0000.0000.0000</td>\n",
       "      <td>1608.44</td>\n",
       "      <td>1410.0</td>\n",
       "      <td>1143</td>\n",
       "    </tr>\n",
       "  </tbody>\n",
       "</table>\n",
       "</div>"
      ],
      "text/plain": [
       "           Description                      PTCode Gross Weight (kg)  \\\n",
       "0  MASSAS ALIMENTICIAS  19021910.00.0000.0000.0000           1608.44   \n",
       "\n",
       "  Net Weight (kg) Value (EUR)  \n",
       "0          1410.0        1143  "
      ]
     },
     "execution_count": 219,
     "metadata": {},
     "output_type": "execute_result"
    }
   ],
   "source": [
    "pg1 = tb.read_pdf(paths_pdf[0], pages=1, stream=True, area=first_page_areas,\n",
    "                 multiple_tables=False, format=\"CSV\")\n",
    "\n",
    "pg1_series = pd.Series(modifier(pg1[0]), index = ['Description','PTCode','Gross Weight (kg)','Net Weight (kg)','Value (EUR)'])\n",
    "pg1_dict = pg1_series.to_dict\n",
    "pg1_df = pd.DataFrame.from_dict(pg1_series)\n",
    "pg1_df = pg1_df.transpose()\n",
    "pg1_df\n",
    "#pg1_series.to_csv(r'C:\\Users\\adria\\Desktop\\Miratoni\\Imports\\September\\10-09-21\\Groupagem AM\\Despachos\\Despacho Cerealis.csv')"
   ]
  },
  {
   "cell_type": "code",
   "execution_count": 222,
   "metadata": {},
   "outputs": [],
   "source": [
    "import xlsxwriter\n",
    "with pd.ExcelWriter('Packing List.xlsx') as writer:\n",
    "    final.to_excel(writer, sheet_name='Cerealis', index=False)"
   ]
  },
  {
   "cell_type": "code",
   "execution_count": 178,
   "metadata": {},
   "outputs": [],
   "source": [
    "final.to_csv(r\"C:\\Users\\adria\\Desktop\\Miratoni\\Imports\\September\\10-09-21\\Main Lorry Vougafrio\\Despachos\\Despacho Sal Limiana.csv\")"
   ]
  },
  {
   "cell_type": "code",
   "execution_count": 223,
   "metadata": {},
   "outputs": [
    {
     "name": "stdout",
     "output_type": "stream",
     "text": [
      "[          MASSAS ALIMENTICIAS\n",
      "0  19021910.00.0000.0000.0000\n",
      "1                     1608.44\n",
      "2                      1410.0\n",
      "3                        1143]\n"
     ]
    }
   ],
   "source": [
    "pg1 = tb.read_pdf(r\"C:\\Users\\adria\\Desktop\\Miratoni\\Imports\\September\\10-09-21\\Groupagem AM\\Despachos\\Despacho Cerealis.pdf\", pages=1, stream=True, area=first_page_areas,\n",
    "                    multiple_tables=False, format=\"CSV\")\n",
    "print(pg1)\n"
   ]
  },
  {
   "cell_type": "code",
   "execution_count": 232,
   "metadata": {},
   "outputs": [
    {
     "name": "stdout",
     "output_type": "stream",
     "text": [
      "           Description                      PTCode Gross Weight (kg)  \\\n",
      "0  MASSAS ALIMENTICIAS  19021910.00.0000.0000.0000           1608.44   \n",
      "\n",
      "  Net Weight (kg) Value (EUR)  \n",
      "0          1410.0        1143  \n"
     ]
    }
   ],
   "source": [
    "pg1_series = pd.Series(modifier(pg1[0]), index = ['Description','PTCode','Gross Weight (kg)','Net Weight (kg)','Value (EUR)'])\n",
    "\n",
    "pg1_dict = pg1_series.to_dict\n",
    "pg1_df = pd.DataFrame.from_dict(pg1_series)\n",
    "final = pg1_df.transpose()\n"
   ]
  },
  {
   "cell_type": "code",
   "execution_count": 236,
   "metadata": {},
   "outputs": [
    {
     "data": {
      "text/plain": [
       "0    MASSAS ALIMENTICIAS19021910.00.0000.0000.0000\n",
       "dtype: object"
      ]
     },
     "execution_count": 236,
     "metadata": {},
     "output_type": "execute_result"
    }
   ],
   "source": [
    "final['Description']+final['PTCode']"
   ]
  },
  {
   "cell_type": "code",
   "execution_count": 1,
   "metadata": {},
   "outputs": [
    {
     "ename": "NameError",
     "evalue": "name 'final' is not defined",
     "output_type": "error",
     "traceback": [
      "\u001b[1;31m---------------------------------------------------------------------------\u001b[0m",
      "\u001b[1;31mNameError\u001b[0m                                 Traceback (most recent call last)",
      "\u001b[1;32m<ipython-input-1-ac884808b630>\u001b[0m in \u001b[0;36m<module>\u001b[1;34m\u001b[0m\n\u001b[1;32m----> 1\u001b[1;33m \u001b[0mfinal\u001b[0m\u001b[1;33m[\u001b[0m\u001b[1;34m'splitcode'\u001b[0m\u001b[1;33m]\u001b[0m \u001b[1;33m=\u001b[0m \u001b[0mfinal\u001b[0m\u001b[1;33m[\u001b[0m\u001b[1;34m'PTCode'\u001b[0m\u001b[1;33m]\u001b[0m\u001b[1;33m.\u001b[0m\u001b[0mtransform\u001b[0m\u001b[1;33m(\u001b[0m\u001b[1;32mlambda\u001b[0m \u001b[0mx\u001b[0m\u001b[1;33m:\u001b[0m \u001b[0mx\u001b[0m\u001b[1;33m.\u001b[0m\u001b[0mreplace\u001b[0m\u001b[1;33m(\u001b[0m\u001b[1;34m'.00.0000.0000.0000'\u001b[0m\u001b[1;33m,\u001b[0m\u001b[1;34m''\u001b[0m\u001b[1;33m)\u001b[0m\u001b[1;33m)\u001b[0m\u001b[1;33m\u001b[0m\u001b[1;33m\u001b[0m\u001b[0m\n\u001b[0m\u001b[0;32m      2\u001b[0m \u001b[0mfinal\u001b[0m\u001b[1;33m[\u001b[0m\u001b[1;34m'join'\u001b[0m\u001b[1;33m]\u001b[0m \u001b[1;33m=\u001b[0m \u001b[0mfinal\u001b[0m\u001b[1;33m[\u001b[0m\u001b[1;34m'Description'\u001b[0m\u001b[1;33m]\u001b[0m \u001b[1;33m+\u001b[0m \u001b[0mfinal\u001b[0m\u001b[1;33m[\u001b[0m\u001b[1;34m'PTCode'\u001b[0m\u001b[1;33m]\u001b[0m\u001b[1;33m.\u001b[0m\u001b[0mtransform\u001b[0m\u001b[1;33m(\u001b[0m\u001b[1;32mlambda\u001b[0m \u001b[0mx\u001b[0m\u001b[1;33m:\u001b[0m \u001b[0mx\u001b[0m\u001b[1;33m.\u001b[0m\u001b[0mreplace\u001b[0m\u001b[1;33m(\u001b[0m\u001b[1;34m'.00.0000.0000.0000'\u001b[0m\u001b[1;33m,\u001b[0m\u001b[1;34m''\u001b[0m\u001b[1;33m)\u001b[0m\u001b[1;33m)\u001b[0m\u001b[1;33m\u001b[0m\u001b[1;33m\u001b[0m\u001b[0m\n\u001b[0;32m      3\u001b[0m \u001b[0mfinal\u001b[0m\u001b[1;33m[\u001b[0m\u001b[1;34m'join'\u001b[0m\u001b[1;33m]\u001b[0m\u001b[1;33m\u001b[0m\u001b[1;33m\u001b[0m\u001b[0m\n",
      "\u001b[1;31mNameError\u001b[0m: name 'final' is not defined"
     ]
    }
   ],
   "source": [
    "final['splitcode'] = final['PTCode'].transform(lambda x: x.replace('.00.0000.0000.0000',''))\n",
    "final['join'] = final['Description'] + final['PTCode'].transform(lambda x: x.replace('.00.0000.0000.0000',''))\n",
    "final['join']"
   ]
  },
  {
   "cell_type": "code",
   "execution_count": 286,
   "metadata": {},
   "outputs": [
    {
     "data": {
      "text/html": [
       "<div>\n",
       "<style scoped>\n",
       "    .dataframe tbody tr th:only-of-type {\n",
       "        vertical-align: middle;\n",
       "    }\n",
       "\n",
       "    .dataframe tbody tr th {\n",
       "        vertical-align: top;\n",
       "    }\n",
       "\n",
       "    .dataframe thead th {\n",
       "        text-align: right;\n",
       "    }\n",
       "</style>\n",
       "<table border=\"1\" class=\"dataframe\">\n",
       "  <thead>\n",
       "    <tr style=\"text-align: right;\">\n",
       "      <th></th>\n",
       "      <th>Items</th>\n",
       "      <th>Codes</th>\n",
       "      <th>join</th>\n",
       "    </tr>\n",
       "  </thead>\n",
       "  <tbody>\n",
       "    <tr>\n",
       "      <th>0</th>\n",
       "      <td>COSTELA DO LOMBO</td>\n",
       "      <td>0203291300</td>\n",
       "      <td>COSTELA DO LOMBO02032913</td>\n",
       "    </tr>\n",
       "    <tr>\n",
       "      <th>1</th>\n",
       "      <td>ENTREMEADA</td>\n",
       "      <td>0203291500</td>\n",
       "      <td>ENTREMEADA02032915</td>\n",
       "    </tr>\n",
       "    <tr>\n",
       "      <th>2</th>\n",
       "      <td>MIUDOS FRANGO</td>\n",
       "      <td>0207149900</td>\n",
       "      <td>MIUDOS FRANGO02071499</td>\n",
       "    </tr>\n",
       "    <tr>\n",
       "      <th>3</th>\n",
       "      <td>PERNIL FUMADO</td>\n",
       "      <td>0210113100</td>\n",
       "      <td>PERNIL FUMADO02101131</td>\n",
       "    </tr>\n",
       "    <tr>\n",
       "      <th>4</th>\n",
       "      <td>PERNIL FUMADO</td>\n",
       "      <td>0210113100</td>\n",
       "      <td>PERNIL FUMADO02101131</td>\n",
       "    </tr>\n",
       "    <tr>\n",
       "      <th>...</th>\n",
       "      <td>...</td>\n",
       "      <td>...</td>\n",
       "      <td>...</td>\n",
       "    </tr>\n",
       "    <tr>\n",
       "      <th>440</th>\n",
       "      <td>FILTROS DE LIQUIDOS</td>\n",
       "      <td>8421298090</td>\n",
       "      <td>FILTROS DE LIQUIDOS84212980</td>\n",
       "    </tr>\n",
       "    <tr>\n",
       "      <th>441</th>\n",
       "      <td>APARELHOS P/ CAFE</td>\n",
       "      <td>8516710000</td>\n",
       "      <td>APARELHOS P/ CAFE85167100</td>\n",
       "    </tr>\n",
       "    <tr>\n",
       "      <th>442</th>\n",
       "      <td>MOVEIS PLASTICOS</td>\n",
       "      <td>9403700000</td>\n",
       "      <td>MOVEIS PLASTICOS94037000</td>\n",
       "    </tr>\n",
       "    <tr>\n",
       "      <th>443</th>\n",
       "      <td>MAQ CAFÉ</td>\n",
       "      <td>8419812090</td>\n",
       "      <td>MAQ CAFÉ84198120</td>\n",
       "    </tr>\n",
       "    <tr>\n",
       "      <th>444</th>\n",
       "      <td>DEPURADOR</td>\n",
       "      <td>8421210090</td>\n",
       "      <td>DEPURADOR84212100</td>\n",
       "    </tr>\n",
       "  </tbody>\n",
       "</table>\n",
       "<p>445 rows × 3 columns</p>\n",
       "</div>"
      ],
      "text/plain": [
       "                   Items       Codes                         join\n",
       "0       COSTELA DO LOMBO  0203291300     COSTELA DO LOMBO02032913\n",
       "1             ENTREMEADA  0203291500           ENTREMEADA02032915\n",
       "2          MIUDOS FRANGO  0207149900        MIUDOS FRANGO02071499\n",
       "3          PERNIL FUMADO  0210113100        PERNIL FUMADO02101131\n",
       "4          PERNIL FUMADO  0210113100        PERNIL FUMADO02101131\n",
       "..                   ...         ...                          ...\n",
       "440  FILTROS DE LIQUIDOS  8421298090  FILTROS DE LIQUIDOS84212980\n",
       "441    APARELHOS P/ CAFE  8516710000    APARELHOS P/ CAFE85167100\n",
       "442     MOVEIS PLASTICOS  9403700000     MOVEIS PLASTICOS94037000\n",
       "443             MAQ CAFÉ  8419812090             MAQ CAFÉ84198120\n",
       "444            DEPURADOR  8421210090            DEPURADOR84212100\n",
       "\n",
       "[445 rows x 3 columns]"
      ]
     },
     "execution_count": 286,
     "metadata": {},
     "output_type": "execute_result"
    }
   ],
   "source": [
    "codes_df = pd.read_csv(codes_path, dtype=str)\n",
    "codes_df['join'] = codes_df['Items'] + codes_df['Codes'].transform(lambda x: x[:8])\n",
    "codes_df"
   ]
  },
  {
   "cell_type": "code",
   "execution_count": 299,
   "metadata": {},
   "outputs": [
    {
     "data": {
      "text/html": [
       "<div>\n",
       "<style scoped>\n",
       "    .dataframe tbody tr th:only-of-type {\n",
       "        vertical-align: middle;\n",
       "    }\n",
       "\n",
       "    .dataframe tbody tr th {\n",
       "        vertical-align: top;\n",
       "    }\n",
       "\n",
       "    .dataframe thead th {\n",
       "        text-align: right;\n",
       "    }\n",
       "</style>\n",
       "<table border=\"1\" class=\"dataframe\">\n",
       "  <thead>\n",
       "    <tr style=\"text-align: right;\">\n",
       "      <th></th>\n",
       "      <th>Description</th>\n",
       "      <th>Codes</th>\n",
       "      <th>Gross Weight (kg)</th>\n",
       "      <th>Net Weight(kg)</th>\n",
       "      <th>Value (EUR)</th>\n",
       "    </tr>\n",
       "  </thead>\n",
       "  <tbody>\n",
       "    <tr>\n",
       "      <th>0</th>\n",
       "      <td>BACON</td>\n",
       "      <td>0210121900</td>\n",
       "      <td>85.05</td>\n",
       "      <td>80.45</td>\n",
       "      <td>539.02</td>\n",
       "    </tr>\n",
       "    <tr>\n",
       "      <th>1</th>\n",
       "      <td>BACON</td>\n",
       "      <td>0210121900</td>\n",
       "      <td>85.05</td>\n",
       "      <td>80.45</td>\n",
       "      <td>539.02</td>\n",
       "    </tr>\n",
       "    <tr>\n",
       "      <th>2</th>\n",
       "      <td>FUMADOS</td>\n",
       "      <td>No Match Found</td>\n",
       "      <td>146.994</td>\n",
       "      <td>138.474</td>\n",
       "      <td>451.01</td>\n",
       "    </tr>\n",
       "    <tr>\n",
       "      <th>3</th>\n",
       "      <td>BANHA</td>\n",
       "      <td>1501109000</td>\n",
       "      <td>29.4</td>\n",
       "      <td>27.6</td>\n",
       "      <td>84.0</td>\n",
       "    </tr>\n",
       "    <tr>\n",
       "      <th>4</th>\n",
       "      <td>BANHA</td>\n",
       "      <td>1501109000</td>\n",
       "      <td>29.4</td>\n",
       "      <td>27.6</td>\n",
       "      <td>84.0</td>\n",
       "    </tr>\n",
       "    <tr>\n",
       "      <th>5</th>\n",
       "      <td>ENCHIDOS NAO COZIDOS</td>\n",
       "      <td>1601009110</td>\n",
       "      <td>1234.948</td>\n",
       "      <td>1169.912</td>\n",
       "      <td>3479.87</td>\n",
       "    </tr>\n",
       "    <tr>\n",
       "      <th>6</th>\n",
       "      <td>ENCHIDOS NAO COZIDOS</td>\n",
       "      <td>1601009110</td>\n",
       "      <td>1234.948</td>\n",
       "      <td>1169.912</td>\n",
       "      <td>3479.87</td>\n",
       "    </tr>\n",
       "    <tr>\n",
       "      <th>7</th>\n",
       "      <td>ENCHIDOS NAO COZIDOS</td>\n",
       "      <td>1601009110</td>\n",
       "      <td>1234.948</td>\n",
       "      <td>1169.912</td>\n",
       "      <td>3479.87</td>\n",
       "    </tr>\n",
       "    <tr>\n",
       "      <th>8</th>\n",
       "      <td>ENCHIDOS NAO COZIDOS</td>\n",
       "      <td>1601009110</td>\n",
       "      <td>1234.948</td>\n",
       "      <td>1169.912</td>\n",
       "      <td>3479.87</td>\n",
       "    </tr>\n",
       "    <tr>\n",
       "      <th>9</th>\n",
       "      <td>ENCHIDOS NAO COZIDOS</td>\n",
       "      <td>1601009110</td>\n",
       "      <td>1234.948</td>\n",
       "      <td>1169.912</td>\n",
       "      <td>3479.87</td>\n",
       "    </tr>\n",
       "    <tr>\n",
       "      <th>10</th>\n",
       "      <td>ENCHIDOS NAO COZIDOS</td>\n",
       "      <td>1601009110</td>\n",
       "      <td>1234.948</td>\n",
       "      <td>1169.912</td>\n",
       "      <td>3479.87</td>\n",
       "    </tr>\n",
       "    <tr>\n",
       "      <th>11</th>\n",
       "      <td>ENCHIDOS COZIDOS</td>\n",
       "      <td>1601009911</td>\n",
       "      <td>137.914</td>\n",
       "      <td>130.23</td>\n",
       "      <td>304.14</td>\n",
       "    </tr>\n",
       "    <tr>\n",
       "      <th>12</th>\n",
       "      <td>ENCHIDOS COZIDOS</td>\n",
       "      <td>1601009911</td>\n",
       "      <td>137.914</td>\n",
       "      <td>130.23</td>\n",
       "      <td>304.14</td>\n",
       "    </tr>\n",
       "    <tr>\n",
       "      <th>13</th>\n",
       "      <td>ENCHIDOS COZIDOS</td>\n",
       "      <td>1601009911</td>\n",
       "      <td>137.914</td>\n",
       "      <td>130.23</td>\n",
       "      <td>304.14</td>\n",
       "    </tr>\n",
       "    <tr>\n",
       "      <th>14</th>\n",
       "      <td>FIAMBRE DE PERU</td>\n",
       "      <td>1602311900</td>\n",
       "      <td>15.768</td>\n",
       "      <td>15.216</td>\n",
       "      <td>70.0</td>\n",
       "    </tr>\n",
       "    <tr>\n",
       "      <th>15</th>\n",
       "      <td>FIAMBRE</td>\n",
       "      <td>1602411010</td>\n",
       "      <td>233.13</td>\n",
       "      <td>224.85</td>\n",
       "      <td>670.05</td>\n",
       "    </tr>\n",
       "  </tbody>\n",
       "</table>\n",
       "</div>"
      ],
      "text/plain": [
       "             Description           Codes Gross Weight (kg) Net Weight(kg)  \\\n",
       "0                  BACON      0210121900             85.05          80.45   \n",
       "1                  BACON      0210121900             85.05          80.45   \n",
       "2                FUMADOS  No Match Found           146.994        138.474   \n",
       "3                  BANHA      1501109000              29.4           27.6   \n",
       "4                  BANHA      1501109000              29.4           27.6   \n",
       "5   ENCHIDOS NAO COZIDOS      1601009110          1234.948       1169.912   \n",
       "6   ENCHIDOS NAO COZIDOS      1601009110          1234.948       1169.912   \n",
       "7   ENCHIDOS NAO COZIDOS      1601009110          1234.948       1169.912   \n",
       "8   ENCHIDOS NAO COZIDOS      1601009110          1234.948       1169.912   \n",
       "9   ENCHIDOS NAO COZIDOS      1601009110          1234.948       1169.912   \n",
       "10  ENCHIDOS NAO COZIDOS      1601009110          1234.948       1169.912   \n",
       "11      ENCHIDOS COZIDOS      1601009911           137.914         130.23   \n",
       "12      ENCHIDOS COZIDOS      1601009911           137.914         130.23   \n",
       "13      ENCHIDOS COZIDOS      1601009911           137.914         130.23   \n",
       "14       FIAMBRE DE PERU      1602311900            15.768         15.216   \n",
       "15               FIAMBRE      1602411010            233.13         224.85   \n",
       "\n",
       "   Value (EUR)  \n",
       "0       539.02  \n",
       "1       539.02  \n",
       "2       451.01  \n",
       "3         84.0  \n",
       "4         84.0  \n",
       "5      3479.87  \n",
       "6      3479.87  \n",
       "7      3479.87  \n",
       "8      3479.87  \n",
       "9      3479.87  \n",
       "10     3479.87  \n",
       "11      304.14  \n",
       "12      304.14  \n",
       "13      304.14  \n",
       "14        70.0  \n",
       "15      670.05  "
      ]
     },
     "execution_count": 299,
     "metadata": {},
     "output_type": "execute_result"
    }
   ],
   "source": [
    "joined = pd.merge(final,codes_df, how='left', on='join',indicator=True)\n",
    "joined = joined.replace(np.NaN, 'No Match Found', regex=True)\n",
    "joined[['Description', 'Codes', 'Gross Weight (kg)' ,'Net Weight(kg)', 'Value (EUR)']].to_csv()"
   ]
  }
 ],
 "metadata": {
  "interpreter": {
   "hash": "70c15ec747d8a34474110689a6931044ccc458f7634c1d2283374390dab2bad3"
  },
  "kernelspec": {
   "display_name": "Python 3.9.5 32-bit",
   "name": "python3"
  },
  "language_info": {
   "codemirror_mode": {
    "name": "ipython",
    "version": 3
   },
   "file_extension": ".py",
   "mimetype": "text/x-python",
   "name": "python",
   "nbconvert_exporter": "python",
   "pygments_lexer": "ipython3",
   "version": "3.9.5"
  },
  "orig_nbformat": 4
 },
 "nbformat": 4,
 "nbformat_minor": 2
}
