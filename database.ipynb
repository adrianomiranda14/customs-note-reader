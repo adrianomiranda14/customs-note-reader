{
 "cells": [
  {
   "cell_type": "code",
   "execution_count": 2,
   "metadata": {},
   "outputs": [],
   "source": [
    "import pandas as pd"
   ]
  },
  {
   "cell_type": "code",
   "execution_count": 7,
   "metadata": {},
   "outputs": [],
   "source": [
    "path = r'C:\\Users\\adria\\Desktop\\Miratoni\\Imports\\Training Database.xlsx'\n",
    "df = pd.read_excel(path)"
   ]
  },
  {
   "cell_type": "code",
   "execution_count": 9,
   "metadata": {},
   "outputs": [
    {
     "data": {
      "text/html": [
       "<div>\n",
       "<style scoped>\n",
       "    .dataframe tbody tr th:only-of-type {\n",
       "        vertical-align: middle;\n",
       "    }\n",
       "\n",
       "    .dataframe tbody tr th {\n",
       "        vertical-align: top;\n",
       "    }\n",
       "\n",
       "    .dataframe thead th {\n",
       "        text-align: right;\n",
       "    }\n",
       "</style>\n",
       "<table border=\"1\" class=\"dataframe\">\n",
       "  <thead>\n",
       "    <tr style=\"text-align: right;\">\n",
       "      <th></th>\n",
       "      <th>Description</th>\n",
       "      <th>Commodity Code</th>\n",
       "    </tr>\n",
       "  </thead>\n",
       "  <tbody>\n",
       "    <tr>\n",
       "      <th>0</th>\n",
       "      <td>LEITE M/ GORDO</td>\n",
       "      <td>0401201100</td>\n",
       "    </tr>\n",
       "    <tr>\n",
       "      <th>1</th>\n",
       "      <td>NATAS</td>\n",
       "      <td>0401401090</td>\n",
       "    </tr>\n",
       "    <tr>\n",
       "      <th>2</th>\n",
       "      <td>LEITE CONDENSADO</td>\n",
       "      <td>0402991010</td>\n",
       "    </tr>\n",
       "    <tr>\n",
       "      <th>3</th>\n",
       "      <td>FEIJAO</td>\n",
       "      <td>0713339000</td>\n",
       "    </tr>\n",
       "    <tr>\n",
       "      <th>4</th>\n",
       "      <td>CAFE</td>\n",
       "      <td>0901210000</td>\n",
       "    </tr>\n",
       "    <tr>\n",
       "      <th>...</th>\n",
       "      <td>...</td>\n",
       "      <td>...</td>\n",
       "    </tr>\n",
       "    <tr>\n",
       "      <th>392</th>\n",
       "      <td>Agua Oxigenada</td>\n",
       "      <td>2847000000</td>\n",
       "    </tr>\n",
       "    <tr>\n",
       "      <th>393</th>\n",
       "      <td>PRE P/Pele</td>\n",
       "      <td>3304990000</td>\n",
       "    </tr>\n",
       "    <tr>\n",
       "      <th>394</th>\n",
       "      <td>Prod. Limpeza</td>\n",
       "      <td>3402209000</td>\n",
       "    </tr>\n",
       "    <tr>\n",
       "      <th>395</th>\n",
       "      <td>Preparacoes Desinfectantes</td>\n",
       "      <td>3808949090</td>\n",
       "    </tr>\n",
       "    <tr>\n",
       "      <th>396</th>\n",
       "      <td>Preparacoes disinfectantes</td>\n",
       "      <td>3808949090</td>\n",
       "    </tr>\n",
       "  </tbody>\n",
       "</table>\n",
       "<p>397 rows × 2 columns</p>\n",
       "</div>"
      ],
      "text/plain": [
       "                    Description Commodity Code\n",
       "0                LEITE M/ GORDO     0401201100\n",
       "1                         NATAS     0401401090\n",
       "2              LEITE CONDENSADO     0402991010\n",
       "3                        FEIJAO     0713339000\n",
       "4                          CAFE     0901210000\n",
       "..                          ...            ...\n",
       "392              Agua Oxigenada     2847000000\n",
       "393                  PRE P/Pele     3304990000\n",
       "394               Prod. Limpeza     3402209000\n",
       "395  Preparacoes Desinfectantes     3808949090\n",
       "396  Preparacoes disinfectantes     3808949090\n",
       "\n",
       "[397 rows x 2 columns]"
      ]
     },
     "execution_count": 9,
     "metadata": {},
     "output_type": "execute_result"
    }
   ],
   "source": [
    "df.drop_duplicates(inplace=True, ignore_index=True)\n",
    "df"
   ]
  },
  {
   "cell_type": "code",
   "execution_count": 12,
   "metadata": {},
   "outputs": [],
   "source": [
    "df['Commodity Code'] = df['Commodity Code'].apply(str)"
   ]
  },
  {
   "cell_type": "code",
   "execution_count": 23,
   "metadata": {},
   "outputs": [],
   "source": [
    "df2 = pd.DataFrame()\n",
    "df['Lengths'] = df['Commodity Code'].apply(lambda x: len(x))\n",
    "df = df.loc[df['Lengths'] == 10]\n",
    "        "
   ]
  },
  {
   "cell_type": "code",
   "execution_count": 27,
   "metadata": {},
   "outputs": [
    {
     "data": {
      "text/html": [
       "<div>\n",
       "<style scoped>\n",
       "    .dataframe tbody tr th:only-of-type {\n",
       "        vertical-align: middle;\n",
       "    }\n",
       "\n",
       "    .dataframe tbody tr th {\n",
       "        vertical-align: top;\n",
       "    }\n",
       "\n",
       "    .dataframe thead th {\n",
       "        text-align: right;\n",
       "    }\n",
       "</style>\n",
       "<table border=\"1\" class=\"dataframe\">\n",
       "  <thead>\n",
       "    <tr style=\"text-align: right;\">\n",
       "      <th></th>\n",
       "      <th>Description</th>\n",
       "      <th>Commodity Code</th>\n",
       "    </tr>\n",
       "  </thead>\n",
       "  <tbody>\n",
       "    <tr>\n",
       "      <th>0</th>\n",
       "      <td>LEITE M/ GORDO</td>\n",
       "      <td>0401201100</td>\n",
       "    </tr>\n",
       "    <tr>\n",
       "      <th>1</th>\n",
       "      <td>NATAS</td>\n",
       "      <td>0401401090</td>\n",
       "    </tr>\n",
       "    <tr>\n",
       "      <th>2</th>\n",
       "      <td>LEITE CONDENSADO</td>\n",
       "      <td>0402991010</td>\n",
       "    </tr>\n",
       "    <tr>\n",
       "      <th>3</th>\n",
       "      <td>FEIJAO</td>\n",
       "      <td>0713339000</td>\n",
       "    </tr>\n",
       "    <tr>\n",
       "      <th>4</th>\n",
       "      <td>CAFE</td>\n",
       "      <td>0901210000</td>\n",
       "    </tr>\n",
       "    <tr>\n",
       "      <th>...</th>\n",
       "      <td>...</td>\n",
       "      <td>...</td>\n",
       "    </tr>\n",
       "    <tr>\n",
       "      <th>392</th>\n",
       "      <td>AGUA OXIGENADA</td>\n",
       "      <td>2847000000</td>\n",
       "    </tr>\n",
       "    <tr>\n",
       "      <th>393</th>\n",
       "      <td>PRE P/PELE</td>\n",
       "      <td>3304990000</td>\n",
       "    </tr>\n",
       "    <tr>\n",
       "      <th>394</th>\n",
       "      <td>PROD. LIMPEZA</td>\n",
       "      <td>3402209000</td>\n",
       "    </tr>\n",
       "    <tr>\n",
       "      <th>395</th>\n",
       "      <td>PREPARACOES DESINFECTANTES</td>\n",
       "      <td>3808949090</td>\n",
       "    </tr>\n",
       "    <tr>\n",
       "      <th>396</th>\n",
       "      <td>PREPARACOES DISINFECTANTES</td>\n",
       "      <td>3808949090</td>\n",
       "    </tr>\n",
       "  </tbody>\n",
       "</table>\n",
       "<p>395 rows × 2 columns</p>\n",
       "</div>"
      ],
      "text/plain": [
       "                    Description Commodity Code\n",
       "0                LEITE M/ GORDO     0401201100\n",
       "1                         NATAS     0401401090\n",
       "2              LEITE CONDENSADO     0402991010\n",
       "3                        FEIJAO     0713339000\n",
       "4                          CAFE     0901210000\n",
       "..                          ...            ...\n",
       "392              AGUA OXIGENADA     2847000000\n",
       "393                  PRE P/PELE     3304990000\n",
       "394               PROD. LIMPEZA     3402209000\n",
       "395  PREPARACOES DESINFECTANTES     3808949090\n",
       "396  PREPARACOES DISINFECTANTES     3808949090\n",
       "\n",
       "[395 rows x 2 columns]"
      ]
     },
     "execution_count": 27,
     "metadata": {},
     "output_type": "execute_result"
    }
   ],
   "source": [
    "df = df[['Description','Commodity Code']]\n",
    "df['Description'] = df['Description'].str.upper()\n"
   ]
  },
  {
   "cell_type": "code",
   "execution_count": 30,
   "metadata": {},
   "outputs": [],
   "source": [
    "df.columns = ['Items','Codes']"
   ]
  },
  {
   "cell_type": "code",
   "execution_count": 31,
   "metadata": {},
   "outputs": [
    {
     "data": {
      "text/plain": [
       "Index(['Items', 'Codes'], dtype='object')"
      ]
     },
     "execution_count": 31,
     "metadata": {},
     "output_type": "execute_result"
    }
   ],
   "source": [
    "df.columns"
   ]
  },
  {
   "cell_type": "code",
   "execution_count": 32,
   "metadata": {},
   "outputs": [],
   "source": [
    "df.to_pickle('database_df.pkl')"
   ]
  }
 ],
 "metadata": {
  "interpreter": {
   "hash": "70c15ec747d8a34474110689a6931044ccc458f7634c1d2283374390dab2bad3"
  },
  "kernelspec": {
   "display_name": "Python 3.9.5 32-bit",
   "language": "python",
   "name": "python3"
  },
  "language_info": {
   "codemirror_mode": {
    "name": "ipython",
    "version": 3
   },
   "file_extension": ".py",
   "mimetype": "text/x-python",
   "name": "python",
   "nbconvert_exporter": "python",
   "pygments_lexer": "ipython3",
   "version": "3.9.5"
  },
  "orig_nbformat": 4
 },
 "nbformat": 4,
 "nbformat_minor": 2
}
