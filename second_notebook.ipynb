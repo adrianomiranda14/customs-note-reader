{
 "cells": [
  {
   "cell_type": "code",
   "execution_count": 4,
   "source": [
    "import os\r\n",
    "\r\n",
    "def get_filepaths(directory):\r\n",
    "   \r\n",
    "    file_paths = []  # List which will store all of the full filepaths.\r\n",
    "\r\n",
    "    # Walk the tree.\r\n",
    "    for root, directories, files in os.walk(directory):\r\n",
    "        for filename in files:\r\n",
    "            # Join the two strings in order to form the full filepath.\r\n",
    "            filepath = os.path.join(root, filename)\r\n",
    "            file_paths.append(filepath)  # Add it to the list.\r\n",
    "\r\n",
    "    return file_paths  # Self-explanatory.\r\n",
    "\r\n",
    "# Run the above function and store its results in a variable.   \r\n",
    "full_file_paths = get_filepaths(\"C:\\Users\\adria\\Desktop\\Miratoni\\Imports\\August\\12-08-21\\Main Lorry\")"
   ],
   "outputs": [
    {
     "output_type": "error",
     "ename": "SyntaxError",
     "evalue": "(unicode error) 'unicodeescape' codec can't decode bytes in position 2-3: truncated \\UXXXXXXXX escape (<ipython-input-4-7d9f9acaed99>, line 17)",
     "traceback": [
      "\u001b[1;36m  File \u001b[1;32m\"<ipython-input-4-7d9f9acaed99>\"\u001b[1;36m, line \u001b[1;32m17\u001b[0m\n\u001b[1;33m    full_file_paths = get_filepaths(\"C:\\Users\\adria\\Desktop\\Miratoni\\Imports\\August\\12-08-21\\Main Lorry\")\u001b[0m\n\u001b[1;37m                                                                                                        ^\u001b[0m\n\u001b[1;31mSyntaxError\u001b[0m\u001b[1;31m:\u001b[0m (unicode error) 'unicodeescape' codec can't decode bytes in position 2-3: truncated \\UXXXXXXXX escape\n"
     ]
    }
   ],
   "metadata": {}
  },
  {
   "cell_type": "code",
   "execution_count": null,
   "source": [
    "from os import listdir\r\n",
    "from os.path import isfile, join\r\n",
    "mypath = r'C:\\Users\\adria\\Desktop\\Miratoni\\Imports\\September\\10-09-21\\Groupagem AM\\Despachos'\r\n",
    "\r\n",
    "listdir(mypath)"
   ],
   "outputs": [
    {
     "output_type": "execute_result",
     "data": {
      "text/plain": [
       "['Despacho Cantoliva.pdf',\n",
       " 'Despacho Castanheira e Costa.pdf',\n",
       " 'Despacho Cerealis.pdf',\n",
       " 'Despacho Parmalat.pdf',\n",
       " 'Packing Lists Groupage.xlsx']"
      ]
     },
     "metadata": {},
     "execution_count": 3
    }
   ],
   "metadata": {}
  },
  {
   "cell_type": "code",
   "execution_count": 6,
   "source": [
    "onlyfiles = [mypath+'\\\\'+f for f in listdir(mypath) if isfile(join(mypath, f))]\r\n",
    "print(onlyfiles)"
   ],
   "outputs": [
    {
     "output_type": "stream",
     "name": "stdout",
     "text": [
      "['C:\\\\Users\\\\adria\\\\Desktop\\\\Miratoni\\\\Imports\\\\September\\\\10-09-21\\\\Groupagem AM\\\\Despachos\\\\Despacho Cantoliva.pdf', 'C:\\\\Users\\\\adria\\\\Desktop\\\\Miratoni\\\\Imports\\\\September\\\\10-09-21\\\\Groupagem AM\\\\Despachos\\\\Despacho Castanheira e Costa.pdf', 'C:\\\\Users\\\\adria\\\\Desktop\\\\Miratoni\\\\Imports\\\\September\\\\10-09-21\\\\Groupagem AM\\\\Despachos\\\\Despacho Cerealis.pdf', 'C:\\\\Users\\\\adria\\\\Desktop\\\\Miratoni\\\\Imports\\\\September\\\\10-09-21\\\\Groupagem AM\\\\Despachos\\\\Despacho Parmalat.pdf', 'C:\\\\Users\\\\adria\\\\Desktop\\\\Miratoni\\\\Imports\\\\September\\\\10-09-21\\\\Groupagem AM\\\\Despachos\\\\Packing Lists Groupage.xlsx']\n"
     ]
    }
   ],
   "metadata": {}
  }
 ],
 "metadata": {
  "orig_nbformat": 4,
  "language_info": {
   "name": "python",
   "version": "3.9.5",
   "mimetype": "text/x-python",
   "codemirror_mode": {
    "name": "ipython",
    "version": 3
   },
   "pygments_lexer": "ipython3",
   "nbconvert_exporter": "python",
   "file_extension": ".py"
  },
  "kernelspec": {
   "name": "python3",
   "display_name": "Python 3.9.5 32-bit"
  },
  "interpreter": {
   "hash": "70c15ec747d8a34474110689a6931044ccc458f7634c1d2283374390dab2bad3"
  }
 },
 "nbformat": 4,
 "nbformat_minor": 2
}