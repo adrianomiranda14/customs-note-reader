{
 "cells": [
  {
   "cell_type": "code",
   "execution_count": 1,
   "metadata": {},
   "outputs": [],
   "source": [
    "import pandas as pd"
   ]
  },
  {
   "cell_type": "code",
   "execution_count": 6,
   "metadata": {},
   "outputs": [
    {
     "data": {
      "text/html": [
       "<div>\n",
       "<style scoped>\n",
       "    .dataframe tbody tr th:only-of-type {\n",
       "        vertical-align: middle;\n",
       "    }\n",
       "\n",
       "    .dataframe tbody tr th {\n",
       "        vertical-align: top;\n",
       "    }\n",
       "\n",
       "    .dataframe thead th {\n",
       "        text-align: right;\n",
       "    }\n",
       "</style>\n",
       "<table border=\"1\" class=\"dataframe\">\n",
       "  <thead>\n",
       "    <tr style=\"text-align: right;\">\n",
       "      <th></th>\n",
       "      <th>Items</th>\n",
       "      <th>Codes</th>\n",
       "    </tr>\n",
       "  </thead>\n",
       "  <tbody>\n",
       "  </tbody>\n",
       "</table>\n",
       "</div>"
      ],
      "text/plain": [
       "Empty DataFrame\n",
       "Columns: [Items, Codes]\n",
       "Index: []"
      ]
     },
     "execution_count": 6,
     "metadata": {},
     "output_type": "execute_result"
    }
   ],
   "source": [
    "codes_df = pd.read_pickle('database_df.pkl')\n",
    "currently_missing = pd.read_pickle('missing_df.pkl')\n",
    "currently_missing = currently_missing[['Description','Code']].reset_index(drop=True)\n",
    "currently_missing.columns = ['Items', 'Codes']\n",
    "'''currently_missing['Codes'] = [\n",
    "    '0305519010',\n",
    "    '1806102000',\n",
    "    '1904109000',\n",
    "    '2005510000',\n",
    "    '1602421000',\n",
    "    '0210198190',\n",
    "    \n",
    "\n",
    "]'''\n",
    "\n",
    "currently_missing"
   ]
  },
  {
   "cell_type": "code",
   "execution_count": 4,
   "metadata": {},
   "outputs": [],
   "source": [
    "df = pd.concat([codes_df, currently_missing[['Items','Codes']]], ignore_index=True)\n",
    "# df.to_pickle('database_df.pkl')\n",
    "df.sort_values(by='Codes', inplace=True)\n"
   ]
  },
  {
   "cell_type": "code",
   "execution_count": 5,
   "metadata": {},
   "outputs": [],
   "source": [
    "# df.to_pickle('database_df.pkl')"
   ]
  }
 ],
 "metadata": {
  "interpreter": {
   "hash": "0bd36b56c34212472accfa03ad6748caac4a4039d058d902c1e7b86e0296de5a"
  },
  "kernelspec": {
   "display_name": "Python 3.9.5 32-bit",
   "language": "python",
   "name": "python3"
  },
  "language_info": {
   "codemirror_mode": {
    "name": "ipython",
    "version": 3
   },
   "file_extension": ".py",
   "mimetype": "text/x-python",
   "name": "python",
   "nbconvert_exporter": "python",
   "pygments_lexer": "ipython3",
   "version": "3.9.5"
  },
  "orig_nbformat": 4
 },
 "nbformat": 4,
 "nbformat_minor": 2
}
